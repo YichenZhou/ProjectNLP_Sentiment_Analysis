{
 "cells": [
  {
   "cell_type": "code",
   "execution_count": 1,
   "metadata": {},
   "outputs": [],
   "source": [
    "import json\n",
    "from nltk import word_tokenize\n",
    "from nltk.corpus import stopwords\n",
    "from nltk.stem import WordNetLemmatizer\n",
    "from nltk.tokenize import RegexpTokenizer\n",
    "from nltk.stem.porter import PorterStemmer"
   ]
  },
  {
   "cell_type": "code",
   "execution_count": 2,
   "metadata": {},
   "outputs": [],
   "source": [
    "# Read raw file\n",
    "data_list = []\n",
    "for line in open('music_reviews.json', 'r'):\n",
    "    data_list.append(json.loads(line))"
   ]
  },
  {
   "cell_type": "code",
   "execution_count": 9,
   "metadata": {},
   "outputs": [],
   "source": [
    "review_text_list = []\n",
    "overall_list = []\n",
    "\n",
    "for review in data_list:\n",
    "    review_text_list.append(review[\"reviewText\"])\n",
    "    overall_list.append(review[\"overall\"])"
   ]
  },
  {
   "cell_type": "code",
   "execution_count": 5,
   "metadata": {},
   "outputs": [],
   "source": [
    "# Test if length of overall_list file == lengrh of review_text_list file\n",
    "def valid_output_files():\n",
    "    review_test_list = open('review_list.txt', 'r')\n",
    "    overall_test_list = open('overall_list.txt', 'r')\n",
    "    if len(review_test_list.readlines()) == len(overall_test_list.readlines()):\n",
    "        return True\n",
    "    else:\n",
    "        return False"
   ]
  },
  {
   "cell_type": "code",
   "execution_count": 6,
   "metadata": {},
   "outputs": [],
   "source": [
    "# Tokenize, Stemming each review text and remove all punctuations\n",
    "tokenizer = RegexpTokenizer(r'\\w+')\n",
    "porter = PorterStemmer()\n",
    "lemmatizer = WordNetLemmatizer()\n",
    "for idx in range(len(review_text_list)):\n",
    "#     # Remove punctuations and tokenization\n",
    "    tokenized_word_list = [word_tokenize(word) for word in tokenizer.tokenize(review_text_list[idx])]\n",
    "#     # Stemming each word\n",
    "    review_text_list[idx] = [lemmatizer.lemmatize(word[0]) for word in tokenized_word_list]"
   ]
  },
  {
   "cell_type": "code",
   "execution_count": 7,
   "metadata": {},
   "outputs": [],
   "source": [
    "# Remove stopwords and lower-case each word\n",
    "test_list = review_text_list\n",
    "stop = stopwords.words('english')\n",
    "for idx in range(len(review_text_list)):\n",
    "    test_list[idx] = [word.lower() for word in review_text_list[idx] if word not in stop]"
   ]
  },
  {
   "cell_type": "code",
   "execution_count": 10,
   "metadata": {},
   "outputs": [
    {
     "data": {
      "text/plain": [
       "True"
      ]
     },
     "execution_count": 10,
     "metadata": {},
     "output_type": "execute_result"
    }
   ],
   "source": [
    "# Process labels, Pos: 0, Neg: 1\n",
    "for idx in range(len(overall_list)):\n",
    "#     Overall score >= 3.0 is POS, POS = 1\n",
    "#     Overall score < 3.0 is NEG, NEG = 0\n",
    "    if overall_list[idx] < 4.0:\n",
    "        overall_list[idx] = 0\n",
    "    elif overall_list[idx] >= 4.0:\n",
    "        overall_list[idx] = 1\n",
    "\n",
    "# Write processed data lists to file       \n",
    "with open('review_list.txt', 'w') as output:\n",
    "    output.write((str(test_list)))\n",
    "    \n",
    "with open('overall_list.txt', 'w') as output:\n",
    "    output.write((str(overall_list)))\n",
    "# Valid files    \n",
    "valid_output_files()"
   ]
  },
  {
   "cell_type": "code",
   "execution_count": 147,
   "metadata": {},
   "outputs": [],
   "source": []
  },
  {
   "cell_type": "code",
   "execution_count": null,
   "metadata": {},
   "outputs": [],
   "source": []
  }
 ],
 "metadata": {
  "kernelspec": {
   "display_name": "Python 3",
   "language": "python",
   "name": "python3"
  },
  "language_info": {
   "codemirror_mode": {
    "name": "ipython",
    "version": 3
   },
   "file_extension": ".py",
   "mimetype": "text/x-python",
   "name": "python",
   "nbconvert_exporter": "python",
   "pygments_lexer": "ipython3",
   "version": "3.6.2"
  }
 },
 "nbformat": 4,
 "nbformat_minor": 2
}
